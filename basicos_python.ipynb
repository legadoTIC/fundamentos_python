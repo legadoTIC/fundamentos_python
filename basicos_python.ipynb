{
 "cells": [
  {
   "cell_type": "markdown",
   "id": "c8b05fe1",
   "metadata": {},
   "source": [
    "# Agenda \n",
    "\n",
    "* Conceptos básicos de Python\n",
    "    * Valores y tipos de datos\n",
    "    * Variables\n",
    "    * Funciones de entrada/salida\n",
    "    * Operadores\n",
    "    * Condicionales\n",
    "    * Ciclos\n",
    "    * Funciones\n",
    "    * Lista de listas (matriz)\n",
    "    * Librerías\n",
    "* Librería Numpy  \n",
    "\n",
    "A lo largo de la clase usaremos ejemplos pequeños y un ejemplo de la Copa América para que vayas ejecutándo el código y resolviendo ejercicios.\n",
    "\n",
    "Nota que los notebooks que usarás combinan celdas de código y celdas de Markdown, esto facilita la documentación y sugerimos que lo hagas así para las actividades y el proyecto del curso.\n",
    "\n",
    "Markdown es un lenguaje de marcado que se utiliza para dar formato al texto de manera sencilla y legible."
   ]
  },
  {
   "cell_type": "markdown",
   "id": "616aaa95",
   "metadata": {},
   "source": [
    "# ¡Aviso importante!\n",
    "\n",
    "Es retador encapsular los conceptos de Python en una clase de una hora y pico, sin embargo, hicimos nuestro mejor esfuerzo.\n",
    "\n",
    "Para profundizar tu aprendizaje en Python te recomendamos realizar el MOOC del departamento de ingeniería de Sistemas y Computación de Uniandes:\n",
    "\n",
    "[MOOC Programación en Python](https://www.coursera.org/learn/programacion-python)\n",
    "\n",
    "Adicionalemente, te hemos dejado en los notebooks varios enlaces a la documentación oficial del lenguaje para que vayas por más."
   ]
  },
  {
   "cell_type": "markdown",
   "id": "24211be2",
   "metadata": {},
   "source": [
    "# Conceptos básicos de Python"
   ]
  },
  {
   "cell_type": "markdown",
   "id": "f75a4cfe",
   "metadata": {},
   "source": [
    "## Valores y tipos de datos\n",
    "\n",
    "Cada valor tiene un tipo de dato, Veámos algunos de los tipos ofrecidos por Python...\n",
    "\n",
    "* `int`: Enteros (e.g., 1, 42, -7)\n",
    "* `float`: Números de punto flotante (e.g., 3.14, 2.0, -0.5)\n",
    "* `complex`: Números complejos que se definen como aquellos que elevados al cuadrado dan un número negativo. Un número complejo es la combinación de real e imaginario, por ej., -2 + i. En Python un número complejo se expresa de la siguiente manera: `-2 + 1j`. En Computación Cuántica (CC) se pueden usar los números complejos para representar el estado de un Qubit\n",
    "\n",
    "* `bool`: Booleanos (True o False)\n",
    "* `str`: Cadenas de caracteres (e.g., \"hola\", \"Python\"). Se especifica con comilla doble o simple\n",
    "* `NoneType`: Representa la ausencia de valor o un valor nulo (e.g., None).\n",
    "* `tuple`: Tuplas (e.g., (1, 2, 3), (\"a\", \"b\", \"c\")). Se especifica con paréntesis que abre y cierra. Cada elemento se separa con coma\n",
    "* `list`: Listas (e.g., [1, 2, 3], [\"a\", \"b\", \"c\"]). Se especifica con corchete que abre y cierra. Cada elemento se separa con coma. En una lista se pueden almacenar valores de diferentes tipos de datos\n",
    "* ..."
   ]
  },
  {
   "attachments": {},
   "cell_type": "markdown",
   "id": "0d44eb3c",
   "metadata": {},
   "source": [
    "## Variables\n",
    "\n",
    "* Si queremos que los valores de un programa se guarden en la memoria necesitamos definir variables.\n",
    "* Las variables se crean a través de una asignación.\n",
    "* No se debe especificar el tipo de una variable, Python lo asigna dinámicamente\n",
    "* Reglas para nombrar variables en Python:\n",
    "    * El nombre no puede ser una palabra clave de Python\n",
    "    * No puede contener espacios\n",
    "    * El 1° carácter debe ser una letra o un guion bajo\n",
    "    * Después del 1° carácter se pueden usar letras, dígitos o guion bajo\n",
    "    * Los nombres de las variables son sensibles a mayúsculas y minúsculas\n",
    "    * El nombre debe reflejar su uso"
   ]
  },
  {
   "cell_type": "code",
   "execution_count": 16,
   "id": "93f7a0ae",
   "metadata": {},
   "outputs": [],
   "source": [
    "alpha = -2 + 1j  # esto es una asignación, en donde: alpha es el nombre de la variable y -2 + 1j es el valor"
   ]
  },
  {
   "cell_type": "markdown",
   "id": "db40dc65",
   "metadata": {},
   "source": [
    "## Alimentar variables con entradas del usuario"
   ]
  },
  {
   "cell_type": "code",
   "execution_count": 17,
   "id": "d1656ad8",
   "metadata": {},
   "outputs": [
    {
     "name": "stdout",
     "output_type": "stream",
     "text": [
      "Introduce el número de equipos del grupo D:7\n"
     ]
    },
    {
     "data": {
      "text/plain": [
       "str"
      ]
     },
     "execution_count": 17,
     "metadata": {},
     "output_type": "execute_result"
    }
   ],
   "source": [
    "num_equipos = input(\"Introduce el número de equipos del grupo D:\")\n",
    "type(num_equipos)"
   ]
  },
  {
   "cell_type": "markdown",
   "id": "43f452b8",
   "metadata": {},
   "source": [
    "* `input` es una función que obtiene el texto digitado por el usuario\n",
    "* Imprime el texto especificado entre comillas\n",
    "* Espera la entrada del usuario\n",
    "* Asocia la entrada a la variable \n",
    "* Considera la entrada como un `str` aún si el usuario digita un número. Para asegurarnos que el valor se crea con el tipo adecuado (por ej., numérico), debemos llamar a funciones de conversión. Por ej., llamemos a la función int para asegurarnos que el número de equipos sea un entero"
   ]
  },
  {
   "cell_type": "code",
   "execution_count": 18,
   "id": "f4a9fff1",
   "metadata": {},
   "outputs": [
    {
     "name": "stdout",
     "output_type": "stream",
     "text": [
      "Introduce el número de equipos del grupo D:9\n"
     ]
    },
    {
     "data": {
      "text/plain": [
       "int"
      ]
     },
     "execution_count": 18,
     "metadata": {},
     "output_type": "execute_result"
    }
   ],
   "source": [
    "num_equipos = int(input(\"Introduce el número de equipos del grupo D:\"))\n",
    "type(num_equipos)"
   ]
  },
  {
   "cell_type": "markdown",
   "id": "ba9b7658",
   "metadata": {},
   "source": [
    "## Imprimir texto en pantalla"
   ]
  },
  {
   "cell_type": "code",
   "execution_count": 19,
   "id": "000cfbf4",
   "metadata": {},
   "outputs": [
    {
     "name": "stdout",
     "output_type": "stream",
     "text": [
      "Bienvenid@ María al curso\n"
     ]
    }
   ],
   "source": [
    "nombre = \"María\"\n",
    "print(\"Bienvenid@\", nombre, \"al curso\")"
   ]
  },
  {
   "cell_type": "markdown",
   "id": "08a16458",
   "metadata": {},
   "source": [
    "* `print` imprime texto en la pantalla\n",
    "* El texto debe colocarse entre comillas dobles o simples \n",
    "* A la función `print` se le pueden pasar texto, variables y más"
   ]
  },
  {
   "cell_type": "markdown",
   "id": "617ebeab",
   "metadata": {},
   "source": [
    "## Operadores\n",
    "\n",
    "* Los valores y las variables se pueden combinar a través de operadores para formar expresiones\n",
    "* Tenemos los operadores aritméticos, relacionales y lógicos."
   ]
  },
  {
   "cell_type": "markdown",
   "id": "c4177815",
   "metadata": {},
   "source": [
    "###  Operadores aritméticos\n",
    "\n",
    "* Multiplicación (*)\n",
    "* División (/)\n",
    "* División entera (//)\n",
    "* Módulo (%)\n",
    "* Suma (+)\n",
    "* Resta (-)\n",
    "* Exponenciación (**)"
   ]
  },
  {
   "cell_type": "code",
   "execution_count": 20,
   "id": "9cac3cbb",
   "metadata": {},
   "outputs": [
    {
     "data": {
      "text/plain": [
       "5"
      ]
     },
     "execution_count": 20,
     "metadata": {},
     "output_type": "execute_result"
    }
   ],
   "source": [
    "1 * 2 + 3 * 5 % 4  # Ejemplo de operación aritmética"
   ]
  },
  {
   "cell_type": "markdown",
   "id": "5b0d477e",
   "metadata": {},
   "source": [
    "### Operadores relacionales\n",
    "\n",
    "* Igual que (==). OJO: este es diferente de una asignación de variable\n",
    "* Diferente de (!=)\n",
    "* Menor que (<)\n",
    "* Mayor que (>)\n",
    "* Menor que o igual que (<=)\n",
    "* Mayor que o igual que (>=)"
   ]
  },
  {
   "cell_type": "code",
   "execution_count": 21,
   "id": "6fee47e0",
   "metadata": {},
   "outputs": [
    {
     "data": {
      "text/plain": [
       "True"
      ]
     },
     "execution_count": 21,
     "metadata": {},
     "output_type": "execute_result"
    }
   ],
   "source": [
    "\"hola\" > \"Hola\" # ¿Qué resulta de evaluar esta expresión relacional?"
   ]
  },
  {
   "cell_type": "markdown",
   "id": "478562b3",
   "metadata": {},
   "source": [
    "### Operadores lógicos\n",
    "\n",
    "Expresiones relacionales, valores o variables se pueden combinar a través de operadores lógicos.\n",
    "\n",
    "* Conjunción (and)\n",
    "* Disyunción (or)\n",
    "* Negación (not)"
   ]
  },
  {
   "cell_type": "code",
   "execution_count": 22,
   "id": "7fffb401",
   "metadata": {},
   "outputs": [
    {
     "data": {
      "text/plain": [
       "'hola'"
      ]
     },
     "execution_count": 22,
     "metadata": {},
     "output_type": "execute_result"
    }
   ],
   "source": [
    "\"hola\" or 3>18 # ¿Qué resulta de evaluar esta expresión?"
   ]
  },
  {
   "cell_type": "markdown",
   "id": "afb37f6c",
   "metadata": {},
   "source": [
    "### Precedencia de operadores\n",
    "\n",
    "Python tienen un orden de precedencia que sirve para asociar operandos y operadores de izquierda a derecha.\n",
    "A continuación, listamos los operadores yendo del que tiene menor precedencia al que tiene mayor. Lo que tenga menor precedencia se hace primero que el resto\n",
    "\n",
    "* Paréntesis ( ( ) )\n",
    "* Exponenciación (**)\n",
    "* Unarios (+) y (-)\n",
    "* Multiplicación (*), división (/), división entera (//), módulo o resto (%) \n",
    "* Suma (+), resta (-) \n",
    "* Operadores relacionales (<, <=, >, >=, ==, !=) \n",
    "* NOT (not)\n",
    "* AND (and) \n",
    "* OR (or)"
   ]
  },
  {
   "cell_type": "markdown",
   "id": "de11e809",
   "metadata": {},
   "source": [
    "## Condicionales\n",
    "\n",
    "Una condición es una expresión que al evaluarse devuelve verdadero o falso.\n",
    "\n",
    "Por ejemplo, supongamos que la nota mínima para aprobar un examen es 60. Esto en pseudocódigo sería:\n",
    "\n",
    "Si la nota del estudiante es mayor o igual a 60\n",
    "\n",
    "    Mostrar 'Aprobado'\n",
    "\n",
    "* Si la condición es verdadera, se muestra 'Aprobado' y continua con la siguiente línea de código. \n",
    "* Si la condición es falsa, no se muestra nada y continua con la siguiente línea de código.\n",
    "* La sangría (indentación) indica que \"Aprobado\" sólo se muestra si la condición es verdadera."
   ]
  },
  {
   "cell_type": "markdown",
   "id": "7a83f302",
   "metadata": {},
   "source": [
    "### Instrucción if correspondiente"
   ]
  },
  {
   "cell_type": "code",
   "execution_count": 23,
   "id": "8a45244c",
   "metadata": {},
   "outputs": [
    {
     "name": "stdout",
     "output_type": "stream",
     "text": [
      "Aprobado\n"
     ]
    }
   ],
   "source": [
    "nota = 85\n",
    "if nota >= 60:\n",
    "    print('Aprobado')"
   ]
  },
  {
   "cell_type": "markdown",
   "id": "5ab6b2d7",
   "metadata": {},
   "source": [
    "### Instrucción `if...else`\n",
    "\n",
    "Sirve para ejecutar dos acciones posibles, dependiendo de si la condición es `True` o `False`. Supongamos que tenemos este pseudocógico:\n",
    "\n",
    "Si la nota del estudiante es mayor o igual a 60\n",
    "\n",
    "      Mostrar 'Aprobado'\n",
    "      \n",
    "Si no\n",
    "      \n",
    "      Mostrar 'Reprobado'\n",
    "      \n",
    "El código Python correspondiente es:"
   ]
  },
  {
   "cell_type": "code",
   "execution_count": 24,
   "id": "2cbca6a0",
   "metadata": {},
   "outputs": [
    {
     "name": "stdout",
     "output_type": "stream",
     "text": [
      "Aprobado\n"
     ]
    }
   ],
   "source": [
    "if nota >= 60: \n",
    "    print('Aprobado')\n",
    "else:\n",
    "    print('Reprobado')"
   ]
  },
  {
   "cell_type": "markdown",
   "id": "d900a7b5",
   "metadata": {},
   "source": [
    "### Instrucción `if...elif...else`\n",
    "\n",
    "* Sirve para probar muchos escenarios posibles.\n",
    "* Solo se ejecuta la acción de la primera condición que se evalúe a `True`"
   ]
  },
  {
   "cell_type": "code",
   "execution_count": 25,
   "id": "c3751f46",
   "metadata": {},
   "outputs": [
    {
     "name": "stdout",
     "output_type": "stream",
     "text": [
      "B\n"
     ]
    }
   ],
   "source": [
    "if nota >= 90:\n",
    "    print('A')\n",
    "elif nota >= 80:\n",
    "    print('B')\n",
    "elif nota >= 70:\n",
    "    print('C')\n",
    "elif nota >= 60:\n",
    "    print('D')\n",
    "else:\n",
    "    print('F')"
   ]
  },
  {
   "cell_type": "markdown",
   "id": "76c8ee07",
   "metadata": {},
   "source": [
    "* Se puede colocar cualquier cantidad de `elif` en un bloque `if`\n",
    "* Si hay una parte `else`, debe ser siempre la última rama\n",
    "* Siempre hay una condición en una línea `elif` pero nunca en el `else`\n",
    "* `else` se interpreta como si todas las condiciones previas fallaron, entonces haga esto"
   ]
  },
  {
   "cell_type": "markdown",
   "id": "ad5dfb03",
   "metadata": {},
   "source": [
    "## Ciclos"
   ]
  },
  {
   "cell_type": "markdown",
   "id": "bc7c6ba5",
   "metadata": {},
   "source": [
    "### Instrucción `for`\n",
    "\n",
    "* Repite una o varias acciones por cada ítem que se encuentre en un secuencia\n",
    "* Ejemplos de secuencias de ítems pueden ser un `str` o una lista"
   ]
  },
  {
   "cell_type": "code",
   "execution_count": 26,
   "id": "638e1c81",
   "metadata": {},
   "outputs": [
    {
     "name": "stdout",
     "output_type": "stream",
     "text": [
      "P   \n",
      "r   \n",
      "o   \n",
      "g   \n",
      "r   \n",
      "a   \n",
      "m   \n",
      "a   \n",
      "c   \n",
      "i   \n",
      "ó   \n",
      "n   \n"
     ]
    }
   ],
   "source": [
    "for caracter in 'Programación':\n",
    "    print(caracter, '  ')"
   ]
  },
  {
   "cell_type": "markdown",
   "id": "f022fd44",
   "metadata": {},
   "source": [
    "* Al entrar al ciclo `for`, Python asigna la 'P' de 'Programación' a la variable destino que se encuentra entre las palabras clave `for` e `in`.\n",
    "* Después de ejecutar las acciones del bloque, Python asigna a `caracter` el siguiente elemento de la secuencia (es decir, la 'r' de 'Programación'), y a continuación ejecuta de nuevo las acciones del bloque.\n",
    "* Continúa mientras haya más elementos en la secuencia.\n",
    "* Usar la variable destino en el bloque de acciones es común, pero no obligatorio."
   ]
  },
  {
   "cell_type": "markdown",
   "id": "c9883e0a",
   "metadata": {},
   "source": [
    "La secuencia de ítems de una instrucción `for` debe ser algo que se pueda iterar.\n",
    "Algo que se pueda iterar son las listas, que son colecciones de ítems metidos dentro de corchetes `[` y `]`"
   ]
  },
  {
   "cell_type": "code",
   "execution_count": 27,
   "id": "271a4c3e",
   "metadata": {},
   "outputs": [
    {
     "data": {
      "text/plain": [
       "25"
      ]
     },
     "execution_count": 27,
     "metadata": {},
     "output_type": "execute_result"
    }
   ],
   "source": [
    "total = 0\n",
    "for number in [2, -3, 0, 17, 9]:\n",
    "    total = total + number\n",
    "total"
   ]
  },
  {
   "cell_type": "markdown",
   "id": "9727daed",
   "metadata": {},
   "source": [
    "También se puede iterar el resultado de la función `range` ya que esta produce una secuencia consecutiva de enteros. Una de las formas de llamar a `range` es usando dos argumentos: el primero indica el valor inicial de la secuencia y el segundo el valor final menos 1 "
   ]
  },
  {
   "cell_type": "code",
   "execution_count": 28,
   "id": "5999bfbf",
   "metadata": {},
   "outputs": [
    {
     "name": "stdout",
     "output_type": "stream",
     "text": [
      "5  \n",
      "6  \n",
      "7  \n",
      "8  \n",
      "9  \n"
     ]
    }
   ],
   "source": [
    "for numero in range(5, 10):\n",
    "    print(numero, ' ')"
   ]
  },
  {
   "cell_type": "markdown",
   "id": "6e1fc912",
   "metadata": {},
   "source": [
    "### Instrucción `while`\n",
    "\n",
    "Repite una o más acciones mientras que una condición se evalúe a verdadero.\n",
    "\n",
    "Más información sobre [Ciclo while](https://docs.python.org/es/3/tutorial/controlflow.html)"
   ]
  },
  {
   "cell_type": "markdown",
   "id": "495457e7",
   "metadata": {},
   "source": [
    "## Funciones\n",
    "\n",
    "* Python está lleno de funciones que nos facilitan la vida, por ej., `input`, `print`, `range`, ect.\n",
    "* Adicionalmente, el lenguaje nos permite crear nuevas funciones para hacer operaciones (por ej., cálculos) que el lenguaje no sabe hacer inicialmente.\n",
    "* La definición de la función comienza con la palabra clave `def`, seguida del nombre de la función, paréntesis que abre/cierra, flecha, tipo de retorno, y dos puntos (:).\n",
    "* Por convención, los nombres de función deben comenzar con una letra minúscula y, en los nombres de varias palabras, los guiones bajos deben separar cada palabra.\n",
    "* Los paréntesis obligatorios contienen la lista de parámetros de la función.\n",
    "* Los paréntesis vacíos significan que no hay parámetros.\n",
    "* La indentación después de los dos puntos (:) indican las instrucciones que hacen parte del bloque de la función\n",
    "* Es recomendable usar comentarios que expliquen brevemente la función.\n",
    "* Aunque no es obligatorio, es una buena práctica indicar los tipos de datos de los parámetros y el tipo de retorno de la función."
   ]
  },
  {
   "cell_type": "code",
   "execution_count": 29,
   "id": "997f2249",
   "metadata": {},
   "outputs": [],
   "source": [
    "num = 7\n",
    "def cuadrado(numero:int)->int:    \n",
    "    \"\"\"\n",
    "    Calcula el cuadrado de un entero\n",
    "    \"\"\"\n",
    "    return numero ** 2"
   ]
  },
  {
   "cell_type": "code",
   "execution_count": 30,
   "id": "fbb28a03",
   "metadata": {},
   "outputs": [
    {
     "data": {
      "text/plain": [
       "49"
      ]
     },
     "execution_count": 30,
     "metadata": {},
     "output_type": "execute_result"
    }
   ],
   "source": [
    "cuadrado(7)"
   ]
  },
  {
   "cell_type": "markdown",
   "id": "cfcff9d8",
   "metadata": {},
   "source": [
    "### Retornando resultados a un invocador\n",
    "\n",
    "Las funciones se pueden llamar desde muchos lugares: expresiones, otras funciones, el programa principal, otros programas, etc."
   ]
  },
  {
   "cell_type": "code",
   "execution_count": 31,
   "id": "ac6b5e71",
   "metadata": {
    "scrolled": true
   },
   "outputs": [
    {
     "name": "stdout",
     "output_type": "stream",
     "text": [
      "Es cuadrado de 7 es 49\n"
     ]
    }
   ],
   "source": [
    "print('Es cuadrado de', num, 'es', cuadrado(num)) # llamado desde otra función"
   ]
  },
  {
   "cell_type": "markdown",
   "id": "37774e6a",
   "metadata": {},
   "source": [
    "Existen tres formas de devolver un resultado al invocador de una función:\n",
    "* palabra clave `return` seguido de una expresión.\n",
    "* `return` seguido de nada devuelve implícitamente `None` (recordemos que éste representa la ausencia de valor) y se evalúa como `False` en las condiciones.\n",
    "* Si no hay `return` en un función, entonces ésta devuelve implícitamente `None`."
   ]
  },
  {
   "cell_type": "markdown",
   "id": "1cdf8da2",
   "metadata": {},
   "source": [
    "## Lista de listas (matriz)\n",
    "\n",
    "En Python una lista de listas puede ser usada para representar una matriz.\n",
    "A continuación, ilustramos una matriz gráficamente y después mostramos la correspondencia en Python.\n",
    "Esta matriz tiene 4 filas y 3 columnas.\n",
    "\n",
    "![Matriz](matriz.png)\n"
   ]
  },
  {
   "cell_type": "code",
   "execution_count": 32,
   "id": "1f69448d",
   "metadata": {},
   "outputs": [
    {
     "data": {
      "text/plain": [
       "[[1, 2, 3], [2, 12, 6], [1, 0, -3], [0, -1, 0]]"
      ]
     },
     "execution_count": 32,
     "metadata": {},
     "output_type": "execute_result"
    }
   ],
   "source": [
    "M = [[1,2,3],[2,12,6],[1,0,-3],[0,-1,0]] \n",
    "M"
   ]
  },
  {
   "cell_type": "markdown",
   "id": "439907c7",
   "metadata": {},
   "source": [
    "Para acceder a los elementos de una matriz se usa una doble indexación que ilustramos a continuación:\n",
    "\n",
    "![Indices](indices_matriz.png)"
   ]
  },
  {
   "cell_type": "code",
   "execution_count": 33,
   "id": "59831a6f",
   "metadata": {},
   "outputs": [
    {
     "data": {
      "text/plain": [
       "6"
      ]
     },
     "execution_count": 33,
     "metadata": {},
     "output_type": "execute_result"
    }
   ],
   "source": [
    "M[1][2] # ¿Qué nos devolverá?"
   ]
  },
  {
   "cell_type": "markdown",
   "id": "7e84d08d",
   "metadata": {},
   "source": [
    "* A continuación, imprimimos el contenido de la matriz \"M\". Para esto la recorremos de arriba a abajo y de izquierda a derecha, usando un doble ciclo for. \n",
    "* El primer ciclo controlará el recorrido de arriba a abajo, es decir, de fila en fila.\n",
    "* El segundo ciclo controlará el recorrido de izquierda a derecha, es decir, de columna en columna.\n",
    "* En estos recorridos es importante manejar que no estemos recorriendo la estructura de datos por fuera de sus límites, para esto usaremos las funciones `range` y `len`:\n",
    "    * Recuerde que la función `range` devuelve una secuencia de enteros, yendo desde un valor inicial hasta un valor final menos 1.\n",
    "    * Por su parte, la función `len` nos devuelve el tamaño de la lista"
   ]
  },
  {
   "cell_type": "code",
   "execution_count": 34,
   "id": "23c1d3c2",
   "metadata": {},
   "outputs": [
    {
     "name": "stdout",
     "output_type": "stream",
     "text": [
      "1\n",
      "2\n",
      "3\n",
      "2\n",
      "12\n",
      "6\n",
      "1\n",
      "0\n",
      "-3\n",
      "0\n",
      "-1\n",
      "0\n"
     ]
    }
   ],
   "source": [
    "for fila in range (0, len (M)):\n",
    "    for columna in range (0, len (M[fila])):\n",
    "        print(M[fila][columna])"
   ]
  },
  {
   "cell_type": "markdown",
   "id": "c0961864",
   "metadata": {},
   "source": [
    "## Librerías Python"
   ]
  },
  {
   "cell_type": "markdown",
   "id": "c046279c",
   "metadata": {},
   "source": [
    "* Cuando escribimos programas Python implementamos funciones a partir de funciones preexistentes definidas en módulos, como los de la Librería Estándar de Python y otras librerías.\n",
    "* Un módulo es un archivo que agrupa funciones y datos relacionados.\n",
    "* La Libreria Estándar de Python viene en el núcleo del lenguaje Python.\n",
    "* Existen muchísimas más librerías que nos ayudan a realizar una amplia variedad de tareas cotidianas de programación.\n",
    "* Usémolas, esto nos evita \"reinventar la rueda\"."
   ]
  },
  {
   "cell_type": "code",
   "execution_count": 35,
   "id": "8b684264",
   "metadata": {},
   "outputs": [
    {
     "data": {
      "text/plain": [
       "30.0"
      ]
     },
     "execution_count": 35,
     "metadata": {},
     "output_type": "execute_result"
    }
   ],
   "source": [
    "import math as math # ejemplo de como usar la libería math desde mi programa\n",
    "math.sqrt(900)"
   ]
  },
  {
   "cell_type": "code",
   "execution_count": null,
   "id": "d931bba9",
   "metadata": {},
   "outputs": [],
   "source": []
  }
 ],
 "metadata": {
  "kernelspec": {
   "display_name": "Python 3 (ipykernel)",
   "language": "python",
   "name": "python3"
  },
  "language_info": {
   "codemirror_mode": {
    "name": "ipython",
    "version": 3
   },
   "file_extension": ".py",
   "mimetype": "text/x-python",
   "name": "python",
   "nbconvert_exporter": "python",
   "pygments_lexer": "ipython3",
   "version": "3.9.7"
  }
 },
 "nbformat": 4,
 "nbformat_minor": 5
}
