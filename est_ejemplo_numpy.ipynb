{
 "cells": [
  {
   "cell_type": "markdown",
   "id": "a74aace5",
   "metadata": {},
   "source": [
    "# Enunciado de ejemplo\n",
    "\n",
    "\n",
    "Adiós a las listas de listas de Python...\n",
    "¡Bienvenidos arreglos de la librería Numpy!\n",
    "\n",
    "El propósito es introducir aspectos básicos de Numpy.\n",
    "\n",
    "Como ilustración manejaremos los resultados de los partidos de la fase de grupos de la copa América 2024, en particular, del grupo D.\n",
    "En el grupo D hay varios equipos (Colombia, Brasil, Paraguay y Costa Rica), cada equipo juega contra cada uno de los otros equipos una sola vez.\n",
    "\n",
    "La información de los países representados por los equipos se puede almacenar en un arreglo unidimensional.\n",
    "El tablero de goles de los partidos se puede almacenar en un arreglo bidimensional (matriz) como el que se muestra a continuación:\n",
    "\n",
    "![Tablero goles](tablero2.png)\n",
    "\n",
    "Note que la diagonal principal de la matriz está llena de -1 para representar que un país no puede jugar contra sí mismo.\n",
    "El -2 significa que el partido no ha sido jugado, por ej., hipotéticamente Colombia y Brasil.\n",
    "\n",
    "En las celdas donde aparezca la palabra \"TODO\" esperamos que resuelvas un ejercicio... ¡anímate!"
   ]
  },
  {
   "cell_type": "markdown",
   "id": "6522e004",
   "metadata": {},
   "source": [
    "# Librería Numpy\n",
    "\n",
    "* Apareció por primera vez en 2006 y es la implementación de arreglos preferida de Python.\n",
    "* Su principal estructura de datos es un arreglo n-dimensional de alto rendimiento y ricamente funcional llamado ndarray.\n",
    "* Está escrita en C.\n",
    "* Excelente uso de la memoria.\n",
    "* Los algoritmos que se ejecuten sobre estos arreglos son más rápidos comparados con las listas.\n",
    "* [Documentación oficial de NumPy](https://numpy.org/doc/)"
   ]
  },
  {
   "cell_type": "code",
   "execution_count": 1,
   "id": "34d5d3ac",
   "metadata": {},
   "outputs": [],
   "source": [
    "import numpy as np # para usar numpy debemos empezar por importarla"
   ]
  },
  {
   "cell_type": "markdown",
   "id": "f338ad09",
   "metadata": {},
   "source": [
    "## Crear arreglos Numpy\n",
    "\n",
    "Hay varios mecanismos para crear arreglos:\n",
    "* Convertir otras estructuras Python (i.e., listas)\n",
    "* Utilizando funciones de creación intrínsecas de Numpy (por ej., ones, zeros, etc.)\n",
    "* Etc.\n",
    "* Más información sobre [Creación de arreglos](https://numpy.org/doc/stable/user/basics.creation.html)"
   ]
  },
  {
   "cell_type": "code",
   "execution_count": 2,
   "id": "752b5cbd",
   "metadata": {},
   "outputs": [],
   "source": [
    "# Construye un arreglo numpy \"paises\" que contenga los nombres de los países del grupo D\n",
    "grupo_d = np.array([\"Colombia\",\"Brasil\",\"Costa Rica\",\"Paraguay\"]) "
   ]
  },
  {
   "cell_type": "code",
   "execution_count": 3,
   "id": "cae1a9d8",
   "metadata": {},
   "outputs": [],
   "source": [
    "# Define una variable global \"num_equipos\" que almacene el número de equipos del grupo D\n",
    "num_equipos = grupo_d.size"
   ]
  },
  {
   "cell_type": "markdown",
   "id": "4ebf8701",
   "metadata": {},
   "source": [
    "Por defecto, los elementos de un arreglo Numpy son del mismo tipo. "
   ]
  },
  {
   "cell_type": "code",
   "execution_count": 4,
   "id": "a5fb3f17",
   "metadata": {},
   "outputs": [
    {
     "data": {
      "text/plain": [
       "dtype('<U10')"
      ]
     },
     "execution_count": 4,
     "metadata": {},
     "output_type": "execute_result"
    }
   ],
   "source": [
    "grupo_d.dtype # este atributo nos dice el tipo de un arreglo"
   ]
  },
  {
   "cell_type": "markdown",
   "id": "7b337d49",
   "metadata": {},
   "source": [
    "Más información sobre [tipos de datos Numpy](https://numpy.org/doc/stable/user/basics.types.html)"
   ]
  },
  {
   "cell_type": "markdown",
   "id": "75436082",
   "metadata": {},
   "source": [
    "## Recorrer matrices Numpy"
   ]
  },
  {
   "cell_type": "code",
   "execution_count": 11,
   "id": "61144ff8",
   "metadata": {},
   "outputs": [],
   "source": [
    "def crear_matriz_goles(num_equipos:int)->np.array:\n",
    "    \n",
    "    matriz = np.array ([[-2,-2,-2,-2],\n",
    "                        [-2,-2,-2,-2],\n",
    "                        [-2,-2,-2,-2],\n",
    "                        [-2,-2,-2,-2]], dtype=np.int8)\n",
    "    \n",
    "    for i in range (num_equipos):\n",
    "        matriz[i][i] = -1         \n",
    "                \n",
    "    return matriz   \n",
    "\n",
    "tablero = crear_matriz_goles (num_equipos)"
   ]
  },
  {
   "cell_type": "markdown",
   "id": "b5ef92a5",
   "metadata": {},
   "source": [
    "## Actualizar valores de matriz"
   ]
  },
  {
   "cell_type": "code",
   "execution_count": 12,
   "id": "5dfe3e39",
   "metadata": {},
   "outputs": [],
   "source": [
    "\"\"\"\n",
    "TODO\n",
    "Esta función carga los resultados de los partidos jugados por el grupo D en la matriz \"tablero\", completa el marcador que falta (te puedes fijar\n",
    "la imagen del enunciado)\n",
    "\"\"\"\n",
    "def cargar_goles (matriz:np.array) :\n",
    "    \n",
    "    # Colombia --> Paraguay\n",
    "    matriz[0][3] = 2\n",
    "    # Paraguay --> Colombia\n",
    "    matriz[3][0] = 1\n",
    "    \n",
    "    # Colombia --> Costa Rica\n",
    "    matriz[0][2] = 3\n",
    "    # Costa Rica --> Colombia\n",
    "    matriz[2][0] = 0\n",
    "        \n",
    "    # Colombia --> Brasil\n",
    "    matriz[0][1] = 1\n",
    "    # Brasil --> Colombia\n",
    "    matriz[1][0] = 1\n",
    "    \n",
    "    # Brasil vs. Costa Rica\n",
    "    matriz[1][2] = 0 \n",
    "    matriz[2][1] = 0\n",
    "    \n",
    "    # Brasil vs. Paraguay\n",
    "    matriz[1][3] = 4\n",
    "    matriz[3][1] = 1\n",
    "    \n",
    "    # ¿Paraguay vs. Costa Rica?\n",
    "    \n",
    "cargar_goles (tablero)"
   ]
  },
  {
   "cell_type": "code",
   "execution_count": 13,
   "id": "1e617223",
   "metadata": {},
   "outputs": [
    {
     "data": {
      "text/plain": [
       "array([[-1,  1,  3,  2],\n",
       "       [ 1, -1,  0,  4],\n",
       "       [ 0,  0, -1, -2],\n",
       "       [ 1,  1, -2, -1]], dtype=int8)"
      ]
     },
     "execution_count": 13,
     "metadata": {},
     "output_type": "execute_result"
    }
   ],
   "source": [
    "tablero"
   ]
  },
  {
   "cell_type": "code",
   "execution_count": 14,
   "id": "12cd7e1b",
   "metadata": {},
   "outputs": [
    {
     "ename": "ValueError",
     "evalue": "invalid literal for int() with base 10: 'Cualquier valor'",
     "output_type": "error",
     "traceback": [
      "\u001b[1;31m---------------------------------------------------------------------------\u001b[0m",
      "\u001b[1;31mValueError\u001b[0m                                Traceback (most recent call last)",
      "Input \u001b[1;32mIn [14]\u001b[0m, in \u001b[0;36m<cell line: 3>\u001b[1;34m()\u001b[0m\n\u001b[0;32m      1\u001b[0m \u001b[38;5;66;03m# Intenta almacenar en la matriz tablero un valor con un tipo de dato diferente, ¿se puede?\u001b[39;00m\n\u001b[1;32m----> 3\u001b[0m tablero[\u001b[38;5;241m1\u001b[39m][\u001b[38;5;241m1\u001b[39m] \u001b[38;5;241m=\u001b[39m \u001b[38;5;124m\"\u001b[39m\u001b[38;5;124mCualquier valor\u001b[39m\u001b[38;5;124m\"\u001b[39m\n",
      "\u001b[1;31mValueError\u001b[0m: invalid literal for int() with base 10: 'Cualquier valor'"
     ]
    }
   ],
   "source": [
    "# Intenta almacenar en la matriz tablero un valor con un tipo de dato diferente, ¿se puede?\n",
    "\n",
    "tablero[1][1] = \"Cualquier valor\""
   ]
  },
  {
   "cell_type": "markdown",
   "id": "4ad48c51",
   "metadata": {},
   "source": [
    "## Leer valores de matriz"
   ]
  },
  {
   "cell_type": "code",
   "execution_count": 15,
   "id": "ccf1b221",
   "metadata": {},
   "outputs": [
    {
     "data": {
      "text/plain": [
       "'\\nTODO\\nObtén el valor del marcador del partido Brasil vs. Paraguay almacenado en la matriz \"tablero\"\\n'"
      ]
     },
     "execution_count": 15,
     "metadata": {},
     "output_type": "execute_result"
    }
   ],
   "source": [
    "\"\"\"\n",
    "TODO\n",
    "Obtén el valor del marcador del partido Brasil vs. Paraguay almacenado en la matriz \"tablero\"\n",
    "\"\"\""
   ]
  },
  {
   "cell_type": "markdown",
   "id": "a52b310e",
   "metadata": {},
   "source": [
    "## Eliminar valores de matriz"
   ]
  },
  {
   "cell_type": "code",
   "execution_count": 16,
   "id": "15107e9b",
   "metadata": {},
   "outputs": [
    {
     "data": {
      "text/plain": [
       "array([[-1,  3,  2],\n",
       "       [ 0, -1, -2],\n",
       "       [ 1, -2, -1]], dtype=int8)"
      ]
     },
     "execution_count": 16,
     "metadata": {},
     "output_type": "execute_result"
    }
   ],
   "source": [
    "# Suprime Brasil del grupo\n",
    "tablero_c = np.delete(tablero, 1, axis=0) # axis=0 representa a la columna\n",
    "tablero_c = np.delete(tablero_c, 1, axis=1) # axis=1 representa a la fila\n",
    "tablero_c"
   ]
  },
  {
   "cell_type": "markdown",
   "id": "8cb110f8",
   "metadata": {},
   "source": [
    "## Atributos y operaciones sobre arreglos Numpy"
   ]
  },
  {
   "cell_type": "markdown",
   "id": "c092652a",
   "metadata": {},
   "source": [
    "### Atributos básicos"
   ]
  },
  {
   "cell_type": "code",
   "execution_count": 17,
   "id": "d21e7dce",
   "metadata": {},
   "outputs": [
    {
     "data": {
      "text/plain": [
       "2"
      ]
     },
     "execution_count": 17,
     "metadata": {},
     "output_type": "execute_result"
    }
   ],
   "source": [
    "tablero.ndim # número de dimensiones del arreglo"
   ]
  },
  {
   "cell_type": "code",
   "execution_count": 18,
   "id": "75007c2e",
   "metadata": {},
   "outputs": [
    {
     "data": {
      "text/plain": [
       "(4, 4)"
      ]
     },
     "execution_count": 18,
     "metadata": {},
     "output_type": "execute_result"
    }
   ],
   "source": [
    "tablero.shape # tupla especificando las dimensiones del arreglo"
   ]
  },
  {
   "cell_type": "markdown",
   "id": "e25d0a13",
   "metadata": {},
   "source": [
    "### Operaciones de llenado con valores específicos\n",
    "\n",
    "Las funciones `zeros`, `ones`, `full` crean arreglos conteniendo 0s, 1s, o un valor específico, respectivamente"
   ]
  },
  {
   "cell_type": "code",
   "execution_count": 19,
   "id": "3881ab33",
   "metadata": {},
   "outputs": [
    {
     "data": {
      "text/plain": [
       "array([0., 0., 0., 0., 0.])"
      ]
     },
     "execution_count": 19,
     "metadata": {},
     "output_type": "execute_result"
    }
   ],
   "source": [
    "np.zeros (5)"
   ]
  },
  {
   "cell_type": "code",
   "execution_count": 20,
   "id": "de3772c8",
   "metadata": {},
   "outputs": [
    {
     "data": {
      "text/plain": [
       "array([[1, 1, 1, 1],\n",
       "       [1, 1, 1, 1]])"
      ]
     },
     "execution_count": 20,
     "metadata": {},
     "output_type": "execute_result"
    }
   ],
   "source": [
    "np.ones((2, 4), dtype=int) # retorna una matriz llena de 1s con las dimensiones especificadas "
   ]
  },
  {
   "cell_type": "code",
   "execution_count": 21,
   "id": "4a7ccafb",
   "metadata": {},
   "outputs": [
    {
     "data": {
      "text/plain": [
       "array([[13, 13, 13, 13, 13],\n",
       "       [13, 13, 13, 13, 13],\n",
       "       [13, 13, 13, 13, 13]])"
      ]
     },
     "execution_count": 21,
     "metadata": {},
     "output_type": "execute_result"
    }
   ],
   "source": [
    "np.full((3, 5), 13)"
   ]
  },
  {
   "cell_type": "code",
   "execution_count": 22,
   "id": "a3740ec8",
   "metadata": {},
   "outputs": [
    {
     "data": {
      "text/plain": [
       "'\\nTODO\\nReescriba el método crear_matriz_goles para poblar la matriz con -2 usando \"full\"\\n'"
      ]
     },
     "execution_count": 22,
     "metadata": {},
     "output_type": "execute_result"
    }
   ],
   "source": [
    "\"\"\"\n",
    "TODO\n",
    "Reescriba el método crear_matriz_goles para poblar la matriz con -2 usando \"full\"\n",
    "\"\"\""
   ]
  },
  {
   "cell_type": "code",
   "execution_count": 23,
   "id": "52bb2ed2",
   "metadata": {},
   "outputs": [
    {
     "data": {
      "text/plain": [
       "array([[-1,  1,  3,  2],\n",
       "       [ 1, -1,  0,  4],\n",
       "       [ 0,  0, -1, -2],\n",
       "       [ 1,  1, -2, -1]], dtype=int8)"
      ]
     },
     "execution_count": 23,
     "metadata": {},
     "output_type": "execute_result"
    }
   ],
   "source": [
    "tablero"
   ]
  },
  {
   "cell_type": "markdown",
   "id": "b7259d47",
   "metadata": {},
   "source": [
    "### Reformando arreglos multidimensionales\n",
    "\n",
    "El método `reshape` transforma un array en un número diferente de dimensiones.\n",
    "La nueva forma debe tener el mismo número de elementos que la original, de otro modo genera error"
   ]
  },
  {
   "cell_type": "code",
   "execution_count": 24,
   "id": "fe8941d9",
   "metadata": {},
   "outputs": [
    {
     "data": {
      "text/plain": [
       "array([[1, 2],\n",
       "       [3, 4],\n",
       "       [5, 6]])"
      ]
     },
     "execution_count": 24,
     "metadata": {},
     "output_type": "execute_result"
    }
   ],
   "source": [
    "matriz = np.array([[1, 2, 3], [4, 5, 6]])\n",
    "matriz = matriz.reshape(3,2)\n",
    "matriz"
   ]
  },
  {
   "cell_type": "markdown",
   "id": "61c7e99e",
   "metadata": {},
   "source": [
    "## Operaciones de álgebra lineal\n",
    "\n",
    "Algunas de estas funciones son: `dot` (producto punto de dos arreglos), `inner` (producto interno de dos vectores), `outer`, (producto externo de dos vectores), entre otras.\n",
    "\n",
    "El resultado del producto punto de dos arreglos unidimensionales es el mismo que del producto interno.\n",
    "El resultado del producto punto de dos arreglos bidimensionales es equivalente a la multiplicación de matrices."
   ]
  },
  {
   "cell_type": "code",
   "execution_count": 25,
   "id": "34abe4d1",
   "metadata": {},
   "outputs": [
    {
     "data": {
      "text/plain": [
       "32"
      ]
     },
     "execution_count": 25,
     "metadata": {},
     "output_type": "execute_result"
    }
   ],
   "source": [
    "a = np.array([1, 2, 3])\n",
    "b = np.array([4, 5, 6])\n",
    "np.dot(a, b)"
   ]
  },
  {
   "cell_type": "markdown",
   "id": "f4983063",
   "metadata": {},
   "source": [
    "## Operadores aritméticos sobre arreglos Numpy\n",
    "\n",
    "* Realizan operaciones en todo el arreglo.\n",
    "* Pueden realizar operaciones aritméticas entre arreglos y valores numéricos escalares, y entre arreglos.\n",
    "* tablero * 2 equivale a tablero * [2] y a tablero * [[2,2,2,2],[2,2,2,2],[2,2,2,2],[2,2,2,2]] ya que \"tablero\" es una matriz de 4 * 4 elementos.\n",
    "* La réplica automática de los datos (en este caso el hecho de \"estirar\" [2] para tener una matriz de las misma forma y tamaño de \"tablero\") es posible gracias a la técnica denominada _propagación_ (_broadcasting_ en inglés).\n"
   ]
  },
  {
   "cell_type": "code",
   "execution_count": 26,
   "id": "50c4566c",
   "metadata": {},
   "outputs": [
    {
     "data": {
      "text/plain": [
       "array([[-2,  2,  6,  4],\n",
       "       [ 2, -2,  0,  8],\n",
       "       [ 0,  0, -2, -4],\n",
       "       [ 2,  2, -4, -2]], dtype=int8)"
      ]
     },
     "execution_count": 26,
     "metadata": {},
     "output_type": "execute_result"
    }
   ],
   "source": [
    "tablero * 2 # aquí no se actualiza tablero, se crea uno nuevo"
   ]
  },
  {
   "cell_type": "code",
   "execution_count": 27,
   "id": "dd4eba10",
   "metadata": {},
   "outputs": [
    {
     "data": {
      "text/plain": [
       "array([[-1,  1, 27,  8],\n",
       "       [ 1, -1,  0, 64],\n",
       "       [ 0,  0, -1, -8],\n",
       "       [ 1,  1, -8, -1]], dtype=int8)"
      ]
     },
     "execution_count": 27,
     "metadata": {},
     "output_type": "execute_result"
    }
   ],
   "source": [
    "tablero ** 3"
   ]
  },
  {
   "cell_type": "code",
   "execution_count": 28,
   "id": "876e2d81",
   "metadata": {},
   "outputs": [
    {
     "data": {
      "text/plain": [
       "array([[ 0,  2,  4,  3],\n",
       "       [ 2,  0,  1,  5],\n",
       "       [ 1,  1,  0, -1],\n",
       "       [ 2,  2, -1,  0]], dtype=int8)"
      ]
     },
     "execution_count": 28,
     "metadata": {},
     "output_type": "execute_result"
    }
   ],
   "source": [
    "tablero += 1 # aquí se actualiza tablero porque hay una asignación\n",
    "tablero"
   ]
  },
  {
   "cell_type": "markdown",
   "id": "a330b188",
   "metadata": {},
   "source": [
    "Para que el broadcasting funcione entre arreglos, las dimensiones de estos arreglos deben ser _compatibles_, es decir: \n",
    "* Las dimensiones deben ser iguales o una de ellas debe ser 1. Si una dimensión es 1, se \"estira\" para que coincida con la otra dimensión.\n",
    "* Si los arreglos tienen diferente número de dimensiones, el arreglo con menos dimensiones se rellena con los mismos datos que ya tiene."
   ]
  },
  {
   "cell_type": "code",
   "execution_count": 29,
   "id": "87599624",
   "metadata": {},
   "outputs": [
    {
     "data": {
      "text/plain": [
       "array([[5, 6, 7],\n",
       "       [6, 7, 8],\n",
       "       [7, 8, 9]])"
      ]
     },
     "execution_count": 29,
     "metadata": {},
     "output_type": "execute_result"
    }
   ],
   "source": [
    "\"\"\"\n",
    "la operación que sigue es posible porque la forma de \"a\" es (1,3) y la de \"b\" es (3, 1). Entonces, los datos de \"a\" se proyectan \n",
    "hacia abajo y los de \"b\" hacia la derecha así:\n",
    "a: [[1, 2, 3],\n",
    "    [1, 2, 3],\n",
    "    [1, 2, 3]]\n",
    "\n",
    "b: [[4, 4, 4],\n",
    "    [5, 5, 5],\n",
    "    [6, 6, 6]]\n",
    "\"\"\"\n",
    "a = np.array([[1, 2, 3]])\n",
    "b = np.array([[4], [5], [6]])\n",
    "resultado = a+b\n",
    "resultado"
   ]
  },
  {
   "cell_type": "markdown",
   "id": "bfd6a9fc",
   "metadata": {},
   "source": [
    "## Comparación de matrices con valores individuales y con otras matrices\n",
    "\n",
    "* Las comparaciones se realizan elemento por elemento\n",
    "* Produce matrices de valores booleanos en las que el valor Verdadero o Falso de cada elemento indica el resultado de la comparación\n",
    "* También se aplica la técnica de propagación"
   ]
  },
  {
   "cell_type": "code",
   "execution_count": 30,
   "id": "717f4636",
   "metadata": {},
   "outputs": [
    {
     "data": {
      "text/plain": [
       "array([[ True,  True,  True],\n",
       "       [ True,  True,  True],\n",
       "       [ True,  True,  True]])"
      ]
     },
     "execution_count": 30,
     "metadata": {},
     "output_type": "execute_result"
    }
   ],
   "source": [
    "a < b"
   ]
  },
  {
   "cell_type": "markdown",
   "id": "697e9f3f",
   "metadata": {},
   "source": [
    "## Métodos de cálculo Numpy\n",
    "\n",
    "* Estos métodos ignoran la forma del arreglo y utilizan todos los elementos en el cálculo.\n",
    "* Puede utilizar métodos para calcular `sum, min, max, mean, std` (desviación estándar) y `var` (varianza)\n",
    "* La invocación de estos métodos es similar a como se hace en programación funcional "
   ]
  },
  {
   "cell_type": "code",
   "execution_count": 31,
   "id": "dfa56463",
   "metadata": {},
   "outputs": [],
   "source": [
    "notas = np.array([[87, 96, 70], [100, 87, 90],\n",
    "                   [94, 77, 90], [100, 81, 82]])"
   ]
  },
  {
   "cell_type": "code",
   "execution_count": 32,
   "id": "75e29735",
   "metadata": {},
   "outputs": [
    {
     "data": {
      "text/plain": [
       "70"
      ]
     },
     "execution_count": 32,
     "metadata": {},
     "output_type": "execute_result"
    }
   ],
   "source": [
    "notas.min()"
   ]
  },
  {
   "cell_type": "code",
   "execution_count": 33,
   "id": "57968869",
   "metadata": {},
   "outputs": [
    {
     "data": {
      "text/plain": [
       "'\\nTODO\\nImplemente la función total_goles que calcule el total de goles que se han marcado en el campeonato. \\nLa función recibe como parámetro el tablero de goles y retorna el número total de goles.\\nRecuerde que la diagonal principal tiene -1, indicando que un país no juega con sí mismo.\\nUse el método np.sum de Numpy.\\n'"
      ]
     },
     "execution_count": 33,
     "metadata": {},
     "output_type": "execute_result"
    }
   ],
   "source": [
    "\"\"\"\n",
    "TODO\n",
    "Implemente la función total_goles que calcule el total de goles que se han marcado en el campeonato. \n",
    "La función recibe como parámetro el tablero de goles y retorna el número total de goles.\n",
    "Recuerde que la diagonal principal tiene -1, indicando que un país no juega con sí mismo.\n",
    "Use el método np.sum de Numpy.\n",
    "\"\"\""
   ]
  },
  {
   "cell_type": "markdown",
   "id": "73ed9a1d",
   "metadata": {},
   "source": [
    "### Cálculos por fila o columna\n",
    "\n",
    "* Puede realizar cálculos por columna o fila (u otras dimensiones en matrices con más de dos dimensiones)\n",
    "* En un arreglo 2D, axis=0 indica que los cálculos deben realizarse columna a columna\n",
    "* En un arreglo 2D, axis=1 indica que los cálculos deben realizarse fila a fila"
   ]
  },
  {
   "cell_type": "code",
   "execution_count": null,
   "id": "ec71d2fd",
   "metadata": {},
   "outputs": [],
   "source": [
    "notas.mean (axis=0)"
   ]
  },
  {
   "cell_type": "code",
   "execution_count": null,
   "id": "d9bb6f8f",
   "metadata": {},
   "outputs": [],
   "source": [
    "\"\"\"\n",
    "TODO\n",
    "Implemente una función goles_pais que calcule el total de goles que se ha marcado un país en el campeonato. \n",
    "La función recibe como parámetro el tablero y el índice que tiene el país en el arreglo \"países\".\n",
    "Retorna los goles marcados por ese país.\n",
    "Use el método np.sum por fila o columna, usted debe decidir cuál de los dos es el más acertado.\n",
    "Invoque el método para saber cuántos goles marcó Colombia en el grupo D\n",
    "\"\"\""
   ]
  },
  {
   "cell_type": "markdown",
   "id": "5132352f",
   "metadata": {},
   "source": [
    "Más información sobre [métodos de cálculo Numpy](https://numpy.org/doc/stable/reference/arrays.ndarray.html)"
   ]
  },
  {
   "cell_type": "code",
   "execution_count": null,
   "id": "abf1e63c",
   "metadata": {},
   "outputs": [],
   "source": []
  }
 ],
 "metadata": {
  "kernelspec": {
   "display_name": "Python 3 (ipykernel)",
   "language": "python",
   "name": "python3"
  },
  "language_info": {
   "codemirror_mode": {
    "name": "ipython",
    "version": 3
   },
   "file_extension": ".py",
   "mimetype": "text/x-python",
   "name": "python",
   "nbconvert_exporter": "python",
   "pygments_lexer": "ipython3",
   "version": "3.9.7"
  }
 },
 "nbformat": 4,
 "nbformat_minor": 5
}
